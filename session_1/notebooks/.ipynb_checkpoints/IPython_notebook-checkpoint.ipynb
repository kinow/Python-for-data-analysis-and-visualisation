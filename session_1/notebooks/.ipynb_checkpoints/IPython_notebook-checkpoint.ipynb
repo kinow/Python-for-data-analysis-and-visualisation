{
 "cells": [
  {
   "cell_type": "code",
   "execution_count": null,
   "metadata": {
    "collapsed": false
   },
   "outputs": [],
   "source": [
    "%load_ext load_style\n",
    "%load_style talk.css"
   ]
  },
  {
   "cell_type": "markdown",
   "metadata": {},
   "source": [
    "## Overview of the IPython notebook "
   ]
  },
  {
   "cell_type": "code",
   "execution_count": null,
   "metadata": {
    "collapsed": false
   },
   "outputs": [],
   "source": [
    "import addutils.toc ; addutils.toc.js(ipy_notebook=True)"
   ]
  },
  {
   "cell_type": "code",
   "execution_count": null,
   "metadata": {
    "collapsed": false
   },
   "outputs": [],
   "source": [
    "from IPython.display import display, HTML"
   ]
  },
  {
   "cell_type": "markdown",
   "metadata": {},
   "source": [
    "Python ships with a basic interactive interpreter ... not much fun here\n",
    "\n",
    "\n",
    "<div align=\"center\">\n",
    "<img src=\"files/images/python_console.png\" width=\"700\">\n",
    "</div>\n",
    "\n",
    "[IPython](www.ipython.org) is an enhanced interactive interpreter, developped for scientific development, adding e.g. history, tab-completion, interactive help, and lots and lots of goodies: \n",
    "\n",
    "<div align=\"center\">\n",
    "<img src=\"files/images/ipython_console.png\" width=\"700\">\n",
    "</div>\n",
    "\n",
    "The [IPython qtconsole](http://ipython.org/ipython-doc/2/interactive/qtconsole.html) provides a number of enhancements only possible in a GUI, such as inline figures, proper multiline editing with syntax highlighting, graphical calltips, and much more. To lauch it: \n",
    "\n",
    "```\n",
    "$ ipython qtconsole\n",
    "```\n",
    "\n",
    "<div align=\"center\">\n",
    "<img src=\"files/images/qtconsole.png\" width=\"700\">\n",
    "</div>\n",
    "\n",
    "<hr>\n",
    "\n",
    "Since 2005, the IPython development team has introduced the **IPython notebook**. This is a web application, running in the browser, that is connected to a Python kernel running in the background. "
   ]
  },
  {
   "cell_type": "code",
   "execution_count": 1,
   "metadata": {
    "collapsed": false
   },
   "outputs": [
    {
     "ename": "NameError",
     "evalue": "name 'HTML' is not defined",
     "output_type": "error",
     "traceback": [
      "\u001b[1;31m---------------------------------------------------------------------------\u001b[0m",
      "\u001b[1;31mNameError\u001b[0m                                 Traceback (most recent call last)",
      "\u001b[1;32m<ipython-input-1-a1eb8e0ee9fb>\u001b[0m in \u001b[0;36m<module>\u001b[1;34m()\u001b[0m\n\u001b[1;32m----> 1\u001b[1;33m \u001b[0mHTML\u001b[0m\u001b[1;33m(\u001b[0m\u001b[1;34m'<iframe src=http://ipython.org/notebook.html width=900 height=350></iframe>'\u001b[0m\u001b[1;33m)\u001b[0m\u001b[1;33m\u001b[0m\u001b[0m\n\u001b[0m",
      "\u001b[1;31mNameError\u001b[0m: name 'HTML' is not defined"
     ]
    }
   ],
   "source": [
    "HTML('<iframe src=http://ipython.org/notebook.html width=900 height=350></iframe>')"
   ]
  },
  {
   "cell_type": "code",
   "execution_count": null,
   "metadata": {
    "collapsed": true
   },
   "outputs": [],
   "source": [
    "in 2014, at the Scipy 2014 conference, the IPython development team announced the split of the project \n",
    "into [Project Jupyter](https://jupyter.org/) (all the language-agnostic components of the notebook) and IPython \n",
    "(the Python language specific component, including the interactive prompt and the qtconsole)"
   ]
  },
  {
   "cell_type": "markdown",
   "metadata": {},
   "source": [
    "<hr size=5>"
   ]
  },
  {
   "cell_type": "raw",
   "metadata": {},
   "source": [
    "It behaves as an **interactive notebook**, in which you can weave Python code and outputs, figures generated from Python / matplotlib, images (either local and remote), websites, videos and richly formatted comments using [markdown](wikipedia/markdown), which is a superset of HTML with a very simple syntax (see [here](www.markdown.com) for more) \n",
    "\n",
    "It is structured into executable cells, into which by default you can run arbitrary python code\n",
    "\n",
    "It has a sophisticated tab completion and help system \n",
    "\n",
    "The power of IPython comes in part because of its numerous extensions and *magic* functions\n",
    "\n",
    "And finally you can *export* a notebook in different formats, including HTML and Latex (and PDF). "
   ]
  },
  {
   "cell_type": "markdown",
   "metadata": {},
   "source": [
    "Recently the IPython notebook as been featured in the **toolbox** section of [Nature](http://www.nature.com)"
   ]
  },
  {
   "cell_type": "code",
   "execution_count": null,
   "metadata": {
    "collapsed": false
   },
   "outputs": [],
   "source": [
    "HTML('<iframe src=http://www.nature.com/news/interactive-notebooks-sharing-the-code-1.16261 width=900 height=350></iframe>')"
   ]
  },
  {
   "cell_type": "markdown",
   "metadata": {},
   "source": [
    "## Using the IPython notebook"
   ]
  },
  {
   "cell_type": "markdown",
   "metadata": {},
   "source": [
    "To start an IPython notebook session open a command prompt, navigate to a desired working directory then issue the following command:\n",
    "\n",
    "`$ ipython notebook`\n",
    "\n",
    "A new window open in your browser where you can open an existing notebook or start a new one.\n",
    "\n",
    "it should look like \n",
    "\n",
    "<div align=\"center\">\n",
    "<img src=\"files/images/ipython_dashboard.png\" width=\"800\">\n",
    "</div>\n",
    "\n",
    "Notebooks are organized with cells. You may have a code cell for inputing commands followed by its result cell which contains the output of the code. You may also have a text cell, such as this one you're reading right now. Cell type can be changed in the above dropdown menu.\n",
    "\n",
    "There is the menubar above for navigating a notebook but you will find the following shortcuts helpful:\n",
    "\n",
    "- `Enter` : Enter the edit mode of a cell\n",
    "- `Esc` : Leave the edit mode and get into the *control* mode (see icons on the right of the menu bar)\n",
    "- `Shift + Enter` : Execute cell and advance to next cell\n",
    "- `Alt + Enter` : Execute cell and insert an empty cell below\n",
    "- `Ctrl + Enter` : Execute cell in place (do not advance to the next cell)\n",
    "- Press `esc` (command mode) then `h` to display keyboard shortcuts\n",
    "\n",
    "At times you might run code that gets stuck in an infinite loop or simply you want to clear all your workspace variables and start over. To do that you can do:\n",
    "\n",
    "`Kernel -> Interrupt`\n",
    "\n",
    "`Kernel -> Restart`\n"
   ]
  },
  {
   "cell_type": "code",
   "execution_count": null,
   "metadata": {
    "collapsed": false
   },
   "outputs": [],
   "source": [
    "### This is a code cell, containing python code, it is executed by <shift>-<enter> or <alt>-<enter>\n",
    "\n",
    "def func(x):\n",
    "    return x**3\n",
    "\n",
    "[func(x) for x in xrange(10)]"
   ]
  },
  {
   "cell_type": "markdown",
   "metadata": {},
   "source": [
    "### Getting help"
   ]
  },
  {
   "cell_type": "markdown",
   "metadata": {},
   "source": [
    "IPython has a sophisticated help and tab completion system, which allows **introspection**: i.e.\n",
    "If you want details regarding the properties and functionality of any Python objects currently loaded into IPython, you can use the `?` to reveal any details that are available:"
   ]
  },
  {
   "cell_type": "code",
   "execution_count": null,
   "metadata": {
    "collapsed": false
   },
   "outputs": [],
   "source": [
    "some_dict = {}\n",
    "some_dict?"
   ]
  },
  {
   "cell_type": "code",
   "execution_count": null,
   "metadata": {
    "collapsed": false
   },
   "outputs": [],
   "source": [
    "from numpy import random \n",
    "random.randn?"
   ]
  },
  {
   "cell_type": "code",
   "execution_count": null,
   "metadata": {
    "collapsed": false
   },
   "outputs": [],
   "source": [
    "import numpy"
   ]
  },
  {
   "cell_type": "code",
   "execution_count": null,
   "metadata": {
    "collapsed": false
   },
   "outputs": [],
   "source": [
    "help(numpy.random)"
   ]
  },
  {
   "cell_type": "markdown",
   "metadata": {},
   "source": [
    "### Tab completion"
   ]
  },
  {
   "cell_type": "markdown",
   "metadata": {},
   "source": [
    "Because IPython allows for introspection, it is able to afford the user the ability to tab-complete commands or objects that have been partially typed. This is done by pressing the `<tab>` key at any point during the process of typing a command:"
   ]
  },
  {
   "cell_type": "code",
   "execution_count": null,
   "metadata": {
    "collapsed": false
   },
   "outputs": [],
   "source": [
    "listA = [1, 2., 'sentence', 1, (1,2), {'answer': 42}] # here I construct a LIST containing different items"
   ]
  },
  {
   "cell_type": "code",
   "execution_count": null,
   "metadata": {
    "collapsed": false
   },
   "outputs": [],
   "source": [
    "listA.count?"
   ]
  },
  {
   "cell_type": "code",
   "execution_count": null,
   "metadata": {
    "collapsed": false
   },
   "outputs": [],
   "source": [
    "listA.count(1)"
   ]
  },
  {
   "cell_type": "markdown",
   "metadata": {},
   "source": [
    "### including markdown comments "
   ]
  },
  {
   "cell_type": "markdown",
   "metadata": {},
   "source": [
    "**see [markdown](http://daringfireball.net/projects/markdown/)**\n",
    "\n",
    "Using markdown cells, you can insert formatted comments, observations ... directly in between executable code and outputs ... \n",
    "\n",
    "To toggle from *code cell* (the default) to *markdown cell*, you can use the toolbar, or ```<ctrl>-<m> + <m>``` (```<command>-<m> + <m>``` on Macs)\n",
    "\n",
    "You can *italicize*, **boldface**\n",
    "\n",
    "\n",
    "\n",
    "+ build\n",
    "\n",
    "+ lists\n",
    "\n",
    "\n",
    "1. enumerate  \n",
    "\n",
    "2. stuff\n",
    "\n",
    "and embed <font color='red'>syntax</font> highlighted code meant for illustration instead of execution in Python:\n",
    "\n",
    "```python\n",
    "print('hello')\n",
    "```\n",
    "\n",
    "```python\n",
    "def f(x):\n",
    "    \"\"\"a docstring\"\"\"\n",
    "    return x**2\n",
    "```\n",
    "\n",
    "or other languages:\n",
    "\n",
    "```C\n",
    "/* Fibonacci Series c language */\n",
    "#include<stdio.h>\n",
    " \n",
    "int main()\n",
    "{\n",
    "   int n, first = 0, second = 1, next, c;\n",
    " \n",
    "   printf(\"Enter the number of terms\\n\");\n",
    "   scanf(\"%d\",&n);\n",
    " \n",
    "   printf(\"First %d terms of Fibonacci series are :-\\n\",n);\n",
    " \n",
    "   for ( c = 0 ; c < n ; c++ )\n",
    "   {\n",
    "      if ( c <= 1 )\n",
    "         next = c;\n",
    "      else\n",
    "      {\n",
    "         next = first + second;\n",
    "         first = second;\n",
    "         second = next;\n",
    "      }\n",
    "      printf(\"%d\\n\",next);\n",
    "   }\n",
    " \n",
    "   return 0;\n",
    "}\n",
    "```"
   ]
  },
  {
   "cell_type": "markdown",
   "metadata": {},
   "source": [
    "You can insert images seemlessly into a Markdown cell, but if it is local instead of on the web, it needs to reside in an **images** folder in the **same directory as your notebook**. \n",
    "\n",
    "The syntax is then \n",
    "\n",
    "    ![optional tag](files/images/image.png)\n",
    "    \n",
    "e.g.\n",
    "\n",
    "<div align=\"center\">\n",
    "![tag](files/images/presentation.png)\n",
    "</div>\n"
   ]
  },
  {
   "cell_type": "markdown",
   "metadata": {},
   "source": [
    "Thanks to [MathJax](www.wikipedia/mathjax), you can include mathematical expressions in a markdown cell using Latex syntax both inline and displayed: \n",
    "\n",
    "+ inline: `$ Latex expression here $`\n",
    "\n",
    "+ displayed: `$$ Latex expression here $$`\n",
    "\n",
    "\n",
    "For example ```$e^{i\\pi} + 1 = 0$``` becomes $e^{i\\pi} + 1 = 0$ \n",
    "\n",
    "and \n",
    "\n",
    "```$$e^x=\\sum_{i=0}^\\infty \\frac{1}{i!}x^i$$```\n",
    "\n",
    "becomes: \n",
    "\n",
    "$$e^x=\\sum_{i=0}^\\infty \\frac{1}{i!}x^i$$\n",
    "\n",
    "Mathjax is a JavaScript library, and by default IPython uses the online version, from the [Mathjax Content Distribution Network](http://cdn.mathjax.org/) (CDN), if you want  to be able to use it **offline**, you need to install MathJax locally by running that (once and for all) in a code cell: \n",
    "\n",
    "```python\n",
    "from IPython.external.mathjax import install_mathjax\n",
    "install_mathjax()\n",
    "```"
   ]
  },
  {
   "cell_type": "markdown",
   "metadata": {},
   "source": [
    "### The IPython notebook rich display system"
   ]
  },
  {
   "cell_type": "code",
   "execution_count": null,
   "metadata": {
    "collapsed": false
   },
   "outputs": [],
   "source": [
    "from IPython.display import Image, YouTubeVideo"
   ]
  },
  {
   "cell_type": "code",
   "execution_count": null,
   "metadata": {
    "collapsed": false
   },
   "outputs": [],
   "source": [
    "### that will display a frame with specified width and height ... \n",
    "\n",
    "HTML('<iframe src=\"http://numpy.org/\" height=300 width=800>'\n",
    "     '</iframe>')"
   ]
  },
  {
   "cell_type": "code",
   "execution_count": null,
   "metadata": {
    "collapsed": false
   },
   "outputs": [],
   "source": [
    "### This inserts an image in the output cell\n",
    "\n",
    "Image(filename='images/lost_wormhole.jpg',width=500)"
   ]
  },
  {
   "cell_type": "code",
   "execution_count": null,
   "metadata": {
    "collapsed": false
   },
   "outputs": [],
   "source": [
    "### This embeds a video from YouTube\n",
    "### You can embed Vimeo videos by calling from IPython.display import VimeoVideo\n",
    "\n",
    "# Fernando Pérez at PyConCA, here I start at 30 minutes \n",
    "YouTubeVideo('F4rFuIb1Ie4', start = 30*60)  "
   ]
  },
  {
   "cell_type": "code",
   "execution_count": null,
   "metadata": {
    "collapsed": false
   },
   "outputs": [],
   "source": [
    "### You can also embed a LOCAL video in the notebook, but have to encode it: Not sure it will work \n",
    "### on Windows ...\n",
    "\n",
    "import io\n",
    "import base64\n",
    "\n",
    "filename = '../data/Monty_Python.mp4'\n",
    "\n",
    "video = io.open(filename, 'r+b').read()\n",
    "encoded = base64.b64encode(video)\n",
    "HTML(data='''<video alt=\"A witch!\" controls>\n",
    "           <source src=\"data:video/mp4;base64,{0}\" type=\"video/mp4\" />\n",
    "           </video>'''.format(encoded.decode('ascii')))"
   ]
  },
  {
   "cell_type": "markdown",
   "metadata": {},
   "source": [
    "### Inline plots with matplotlib "
   ]
  },
  {
   "cell_type": "markdown",
   "metadata": {},
   "source": [
    "That is one of the most appealing aspect of the IPython notebook: the graphic outputs of some Python code can be displayed directly in the notebook, there is in particular great integration with the \n",
    "Python plotting library [Matplotlib](http://www.matplotlib.org) via the `%matplotlib inline` magic command"
   ]
  },
  {
   "cell_type": "code",
   "execution_count": null,
   "metadata": {
    "collapsed": false
   },
   "outputs": [],
   "source": [
    "%matplotlib inline"
   ]
  },
  {
   "cell_type": "code",
   "execution_count": null,
   "metadata": {
    "collapsed": false
   },
   "outputs": [],
   "source": [
    "import numpy as np\n",
    "import matplotlib.pyplot as plt"
   ]
  },
  {
   "cell_type": "code",
   "execution_count": null,
   "metadata": {
    "collapsed": false
   },
   "outputs": [],
   "source": [
    "t = np.linspace(0, 2*np.pi, 100)\n",
    "plt.plot(np.sin(t))"
   ]
  },
  {
   "cell_type": "code",
   "execution_count": null,
   "metadata": {
    "collapsed": false
   },
   "outputs": [],
   "source": [
    "# you can also choose to display figure OUTSIDE the notebook\n",
    "# the available backends are [inline|qt|osx|gtx] ... For Windows try qt\n",
    "%matplotlib osx "
   ]
  },
  {
   "cell_type": "code",
   "execution_count": null,
   "metadata": {
    "collapsed": false
   },
   "outputs": [],
   "source": [
    "t = np.linspace(0, 2*np.pi, 100)\n",
    "plt.plot(np.sin(t))"
   ]
  },
  {
   "cell_type": "markdown",
   "metadata": {},
   "source": [
    "from version 1.4 of Matplotlib, a special interactive backend for the IPython notebook is available\n",
    "\n",
    "You need to restart the kernel and then run the following cell for it to work "
   ]
  },
  {
   "cell_type": "code",
   "execution_count": null,
   "metadata": {
    "collapsed": false
   },
   "outputs": [],
   "source": [
    "import matplotlib\n",
    "matplotlib.use('nbagg')"
   ]
  },
  {
   "cell_type": "code",
   "execution_count": null,
   "metadata": {
    "collapsed": true
   },
   "outputs": [],
   "source": [
    "import numpy as np\n",
    "import matplotlib.pyplot as plt\n",
    "t = np.linspace(0, 2*np.pi, 100)\n",
    "plt.plot(np.sin(t))\n",
    "plt.show()"
   ]
  },
  {
   "cell_type": "markdown",
   "metadata": {},
   "source": [
    "restart the Kernel and go back to inline display"
   ]
  },
  {
   "cell_type": "code",
   "execution_count": null,
   "metadata": {
    "collapsed": false
   },
   "outputs": [],
   "source": [
    "%matplotlib inline"
   ]
  },
  {
   "cell_type": "markdown",
   "metadata": {},
   "source": [
    "### Some useful magic commands in IPython"
   ]
  },
  {
   "cell_type": "code",
   "execution_count": null,
   "metadata": {
    "collapsed": false
   },
   "outputs": [],
   "source": [
    "# for a list of available magic command \n",
    "\n",
    "%lsmagic "
   ]
  },
  {
   "cell_type": "markdown",
   "metadata": {},
   "source": [
    "For example \n",
    "\n",
    "    %whos\n",
    "\n",
    "list all variables (incl. classes, functions, etc) in the **namespace**"
   ]
  },
  {
   "cell_type": "code",
   "execution_count": null,
   "metadata": {
    "collapsed": false
   },
   "outputs": [],
   "source": [
    "%whos "
   ]
  },
  {
   "cell_type": "markdown",
   "metadata": {},
   "source": [
    "### Writing the content of a cell to file "
   ]
  },
  {
   "cell_type": "code",
   "execution_count": null,
   "metadata": {
    "collapsed": false
   },
   "outputs": [],
   "source": [
    "%%writefile tmp.py\n",
    "#!/Users/nicolasf/anaconda/bin/python \n",
    "import numpy as np\n",
    "\n",
    "print('Hello world')\n",
    "\n",
    "a = np.arange(10) ### will be available in the namespace "
   ]
  },
  {
   "cell_type": "markdown",
   "metadata": {},
   "source": [
    "### Running some external python script (local or online)"
   ]
  },
  {
   "cell_type": "code",
   "execution_count": null,
   "metadata": {
    "collapsed": false
   },
   "outputs": [],
   "source": [
    "%run tmp.py"
   ]
  },
  {
   "cell_type": "code",
   "execution_count": null,
   "metadata": {
    "collapsed": false
   },
   "outputs": [],
   "source": [
    "a"
   ]
  },
  {
   "cell_type": "markdown",
   "metadata": {},
   "source": [
    "### Loading the content of some local python script "
   ]
  },
  {
   "cell_type": "markdown",
   "metadata": {},
   "source": [
    "you can load actually anything, e.g. a Markdown file"
   ]
  },
  {
   "cell_type": "code",
   "execution_count": null,
   "metadata": {
    "collapsed": false
   },
   "outputs": [],
   "source": [
    "# %load tmp.py\n",
    "#!/Users/nicolasf/anaconda/bin/python \n",
    "import numpy as np\n",
    "\n",
    "print('Hello world')\n",
    "\n",
    "a = np.arange(10) ### will be available in the namespace "
   ]
  },
  {
   "cell_type": "markdown",
   "metadata": {},
   "source": [
    "works as well for scripts available online"
   ]
  },
  {
   "cell_type": "code",
   "execution_count": null,
   "metadata": {
    "collapsed": false
   },
   "outputs": [],
   "source": [
    "# %load http://matplotlib.org/mpl_examples/images_contours_and_fields/streamplot_demo_features.py\n",
    "\"\"\"\n",
    "Demo of the `streamplot` function.\n",
    "\n",
    "A streamplot, or streamline plot, is used to display 2D vector fields. This\n",
    "example shows a few features of the stream plot function:\n",
    "\n",
    "    * Varying the color along a streamline.\n",
    "    * Varying the density of streamlines.\n",
    "    * Varying the line width along a stream line.\n",
    "\"\"\"\n",
    "import numpy as np\n",
    "import matplotlib.pyplot as plt\n",
    "\n",
    "Y, X = np.mgrid[-3:3:100j, -3:3:100j]\n",
    "U = -1 - X**2 + Y\n",
    "V = 1 + X - Y**2\n",
    "speed = np.sqrt(U*U + V*V)\n",
    "\n",
    "plt.streamplot(X, Y, U, V, color=U, linewidth=2, cmap=plt.cm.autumn)\n",
    "plt.colorbar()\n",
    "\n",
    "f, (ax1, ax2) = plt.subplots(ncols=2)\n",
    "ax1.streamplot(X, Y, U, V, density=[0.5, 1])\n",
    "\n",
    "lw = 5*speed/speed.max()\n",
    "ax2.streamplot(X, Y, U, V, density=0.6, color='k', linewidth=lw)\n",
    "\n",
    "plt.show()\n",
    "\n"
   ]
  },
  {
   "cell_type": "markdown",
   "metadata": {},
   "source": [
    "### Interacting with the OS: the IPython notebook as an enhanced shell"
   ]
  },
  {
   "cell_type": "code",
   "execution_count": null,
   "metadata": {
    "collapsed": false
   },
   "outputs": [],
   "source": [
    "!rm tmp.py  ### ! escapes to the OS (!del tmp.py on windows)"
   ]
  },
  {
   "cell_type": "code",
   "execution_count": null,
   "metadata": {
    "collapsed": false
   },
   "outputs": [],
   "source": [
    "!ls *.py"
   ]
  },
  {
   "cell_type": "code",
   "execution_count": null,
   "metadata": {
    "collapsed": false
   },
   "outputs": [],
   "source": [
    "notebooks = !ls *.ipynb ### notebooks is a python list ... not sure how to use wildcards on Windows"
   ]
  },
  {
   "cell_type": "code",
   "execution_count": null,
   "metadata": {
    "collapsed": false
   },
   "outputs": [],
   "source": [
    "notebooks"
   ]
  },
  {
   "cell_type": "markdown",
   "metadata": {},
   "source": [
    "And if you need to actually quickly put together and run a bash script (linux / Mac), you don't need to escape the IPython notebook thanks to the \n",
    "\n",
    "    %%bash \n",
    "    \n",
    "cell magic ..."
   ]
  },
  {
   "cell_type": "code",
   "execution_count": null,
   "metadata": {
    "collapsed": false
   },
   "outputs": [],
   "source": [
    "%%bash\n",
    "\n",
    "# Substitutes underscores for blanks in all the filenames in a directory.\n",
    "\n",
    "ONE=1                     # For getting singular/plural right (see below).\n",
    "number=0                  # Keeps track of how many files actually renamed.\n",
    "FOUND=0                   # Successful return value.\n",
    "\n",
    "for filename in *         # Traverses all files in directory.\n",
    "do\n",
    "     echo \"$filename\" | grep -q \" \"         # Checks whether filename\n",
    "     if [ $? -eq $FOUND ]                   # contains space(s).\n",
    "     then\n",
    "       fname=$filename                      # Strips off path.\n",
    "       n=`echo $fname | sed -e \"s/ /_/g\"`   # Substitutes underscore for blank.\n",
    "       mv \"$fname\" \"$n\"                     # Do the actual renaming.\n",
    "       let \"number += 1\"\n",
    "     fi\n",
    "done   \n",
    "\n",
    "if [ \"$number\" -eq \"$ONE\" ]                 # For correct grammar.\n",
    "then\n",
    " echo \"$number file renamed.\"\n",
    "else \n",
    " echo \"$number files renamed.\"\n",
    "fi \n",
    "\n",
    "exit 0"
   ]
  },
  {
   "cell_type": "markdown",
   "metadata": {},
   "source": [
    "### Exporting your notebook in other formats "
   ]
  },
  {
   "cell_type": "markdown",
   "metadata": {},
   "source": [
    "A notebook (extension .ipynb) is actually just a [JSON](http://en.wikipedia.org/wiki/JSON) file, using built-in converters you can \n",
    "convert a notebook into a variety of formats for sharing, illustration, publishing, etc. "
   ]
  },
  {
   "cell_type": "code",
   "execution_count": null,
   "metadata": {
    "collapsed": false
   },
   "outputs": [],
   "source": [
    "#!ipython nbconvert --help\n",
    "!ipython  nbconvert --help"
   ]
  },
  {
   "cell_type": "code",
   "execution_count": null,
   "metadata": {
    "collapsed": false
   },
   "outputs": [],
   "source": [
    "name = 'IPython_notebook'"
   ]
  },
  {
   "cell_type": "code",
   "execution_count": null,
   "metadata": {
    "collapsed": false
   },
   "outputs": [],
   "source": [
    "!ipython nbconvert {name}.ipynb --to html"
   ]
  },
  {
   "cell_type": "code",
   "execution_count": null,
   "metadata": {
    "collapsed": false
   },
   "outputs": [],
   "source": [
    "display(HTML(\"<a href='{name}.html' target='_blank'> {name}.html </a>\".format(name=name)))"
   ]
  },
  {
   "cell_type": "markdown",
   "metadata": {},
   "source": [
    "## Sharing your IPython notebook"
   ]
  },
  {
   "cell_type": "markdown",
   "metadata": {},
   "source": [
    "1. host your IPython notebook on the public internet (e.g. [github](http://github.com) repo, github gist)\n",
    "2. go to [http://nbviewer.ipython.org/](http://nbviewer.ipython.org/) and copy the URL\n",
    "3. Et voila !"
   ]
  },
  {
   "cell_type": "markdown",
   "metadata": {},
   "source": [
    "## Interacting with your code with the IPython notebook widgets"
   ]
  },
  {
   "cell_type": "markdown",
   "metadata": {},
   "source": [
    "[Follow this link](../../session_2/notebooks/IPython_widgets.ipynb)"
   ]
  },
  {
   "cell_type": "markdown",
   "metadata": {},
   "source": [
    "## IPython Parallel"
   ]
  },
  {
   "cell_type": "markdown",
   "metadata": {},
   "source": [
    "* [Part 1](https://www.youtube.com/watch?v=y4hgalfhc1Y&list=PLYx7XA2nY5GfuhCvStxgbynFNrxr3VFog&index=49)"
   ]
  },
  {
   "cell_type": "code",
   "execution_count": null,
   "metadata": {
    "collapsed": false
   },
   "outputs": [],
   "source": [
    "YouTubeVideo('y4hgalfhc1Y')"
   ]
  },
  {
   "cell_type": "markdown",
   "metadata": {},
   "source": [
    "* [Part 2](https://www.youtube.com/watch?v=-9ijnHPCYhY&list=PLYx7XA2nY5GfuhCvStxgbynFNrxr3VFog&index=50)"
   ]
  },
  {
   "cell_type": "code",
   "execution_count": null,
   "metadata": {
    "collapsed": false
   },
   "outputs": [],
   "source": [
    "YouTubeVideo('-9ijnHPCYhY')"
   ]
  },
  {
   "cell_type": "markdown",
   "metadata": {},
   "source": [
    "+ [Part 3](https://www.youtube.com/watch?v=U5mhpKkIx2Y&index=51&list=PLYx7XA2nY5GfuhCvStxgbynFNrxr3VFog)"
   ]
  },
  {
   "cell_type": "code",
   "execution_count": null,
   "metadata": {
    "collapsed": false
   },
   "outputs": [],
   "source": [
    "YouTubeVideo('U5mhpKkIx2Y')"
   ]
  },
  {
   "cell_type": "markdown",
   "metadata": {},
   "source": [
    "## IPython on a HPC "
   ]
  },
  {
   "cell_type": "markdown",
   "metadata": {},
   "source": [
    "Use IPython notebook interactively on a HPC system: [https://github.com/pyHPC/ipynbhpc](https://github.com/pyHPC/ipynbhpc)"
   ]
  }
 ],
 "metadata": {
  "kernelspec": {
   "display_name": "Python 2",
   "language": "python",
   "name": "python2"
  },
  "language_info": {
   "codemirror_mode": {
    "name": "ipython",
    "version": 2
   },
   "file_extension": ".py",
   "mimetype": "text/x-python",
   "name": "python",
   "nbconvert_exporter": "python",
   "pygments_lexer": "ipython2",
   "version": "2.7.6"
  }
 },
 "nbformat": 4,
 "nbformat_minor": 0
}
